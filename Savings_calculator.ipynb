{
 "cells": [
  {
   "cell_type": "code",
   "execution_count": 1,
   "metadata": {},
   "outputs": [
    {
     "name": "stdout",
     "output_type": "stream",
     "text": [
      "Cost with model: 158650\n",
      "Cost without model: 250000\n",
      "Total savings: 91350\n"
     ]
    }
   ],
   "source": [
    "# Define the costs per unit for each action\n",
    "Replacement = 1000  # Cost of replacement\n",
    "Repair = 500  # Cost of repair\n",
    "Inspection = 150   # Cost of inspection\n",
    "\n",
    "# Define the number of each type of outcome\n",
    "TP = 213  # True Positives: Failures correctly identified (need repair)\n",
    "FN = 37   # False Negatives: Failures not identified (need replacement)\n",
    "FP = 101  # False Positives: Non-failures incorrectly identified (need inspection)\n",
    "\n",
    "# Calculate total costs with the model\n",
    "total_cost_with_model = (TP * Repair) + (FN * Replacement) + (FP * Inspection)\n",
    "\n",
    "# Calculate total cost without the model (all failures require replacement)\n",
    "total_cost_without_model = 250 * Replacement  # 250 is the total number of failures\n",
    "\n",
    "# Print the results\n",
    "print(\"Cost with model:\", total_cost_with_model)\n",
    "print(\"Cost without model:\", total_cost_without_model)\n",
    "print(\"Total savings:\", total_cost_without_model - total_cost_with_model)"
   ]
  }
 ],
 "metadata": {
  "kernelspec": {
   "display_name": "Python 3",
   "language": "python",
   "name": "python3"
  },
  "language_info": {
   "codemirror_mode": {
    "name": "ipython",
    "version": 3
   },
   "file_extension": ".py",
   "mimetype": "text/x-python",
   "name": "python",
   "nbconvert_exporter": "python",
   "pygments_lexer": "ipython3",
   "version": "3.12.1"
  }
 },
 "nbformat": 4,
 "nbformat_minor": 2
}
